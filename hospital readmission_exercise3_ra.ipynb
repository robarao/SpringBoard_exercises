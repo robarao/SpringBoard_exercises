{
 "cells": [
  {
   "cell_type": "markdown",
   "metadata": {},
   "source": [
    "# Setting up libraries and environment"
   ]
  },
  {
   "cell_type": "code",
   "execution_count": 1,
   "metadata": {
    "collapsed": true
   },
   "outputs": [],
   "source": [
    "#import relevant libraries and setup\n",
    "import pandas as pd\n",
    "import numpy as np\n",
    "import scipy\n",
    "import matplotlib.pyplot as plt\n",
    "import bokeh.plotting as bkp\n",
    "from mpl_toolkits.axes_grid1 import make_axes_locatable\n",
    "%matplotlib inline"
   ]
  },
  {
   "cell_type": "code",
   "execution_count": 2,
   "metadata": {
    "collapsed": true
   },
   "outputs": [],
   "source": [
    "# read in readmissions data provided\n",
    "hospital_read_df = pd.read_csv('data/cms_hospital_readmissions.csv')"
   ]
  },
  {
   "cell_type": "code",
   "execution_count": 6,
   "metadata": {
    "collapsed": false
   },
   "outputs": [
    {
     "name": "stderr",
     "output_type": "stream",
     "text": [
      "C:\\Users\\arao2\\Anaconda3\\lib\\site-packages\\pandas\\core\\indexing.py:477: SettingWithCopyWarning: \n",
      "A value is trying to be set on a copy of a slice from a DataFrame.\n",
      "Try using .loc[row_indexer,col_indexer] = value instead\n",
      "\n",
      "See the caveats in the documentation: http://pandas.pydata.org/pandas-docs/stable/indexing.html#indexing-view-versus-copy\n",
      "  self.obj[item] = s\n"
     ]
    }
   ],
   "source": [
    "# deal with missing and inconvenient portions of data \n",
    "clean_hospital_read_df = hospital_read_df[hospital_read_df['Number of Discharges'] != 'Not Available']\n",
    "clean_hospital_read_df.loc[:, 'Number of Discharges'] = clean_hospital_read_df['Number of Discharges'].astype(int)\n",
    "clean_hospital_read_df = clean_hospital_read_df.sort_values('Number of Discharges')"
   ]
  },
  {
   "cell_type": "code",
   "execution_count": 7,
   "metadata": {
    "collapsed": false
   },
   "outputs": [
    {
     "data": {
      "text/html": [
       "<div>\n",
       "<table border=\"1\" class=\"dataframe\">\n",
       "  <thead>\n",
       "    <tr style=\"text-align: right;\">\n",
       "      <th></th>\n",
       "      <th>Hospital Name</th>\n",
       "      <th>Provider Number</th>\n",
       "      <th>State</th>\n",
       "      <th>Measure Name</th>\n",
       "      <th>Number of Discharges</th>\n",
       "      <th>Footnote</th>\n",
       "      <th>Excess Readmission Ratio</th>\n",
       "      <th>Predicted Readmission Rate</th>\n",
       "      <th>Expected Readmission Rate</th>\n",
       "      <th>Number of Readmissions</th>\n",
       "      <th>Start Date</th>\n",
       "      <th>End Date</th>\n",
       "    </tr>\n",
       "  </thead>\n",
       "  <tbody>\n",
       "    <tr>\n",
       "      <th>1832</th>\n",
       "      <td>UNIVERSITY OF MD CHARLES REGIONAL  MEDICAL CENTER</td>\n",
       "      <td>210035</td>\n",
       "      <td>MD</td>\n",
       "      <td>READM-30-AMI-HRRP</td>\n",
       "      <td>25</td>\n",
       "      <td>NaN</td>\n",
       "      <td>1.0914</td>\n",
       "      <td>26.8</td>\n",
       "      <td>24.6</td>\n",
       "      <td>12.0</td>\n",
       "      <td>07/01/2010</td>\n",
       "      <td>06/30/2013</td>\n",
       "    </tr>\n",
       "    <tr>\n",
       "      <th>1699</th>\n",
       "      <td>ATLANTIC GENERAL HOSPITAL</td>\n",
       "      <td>210061</td>\n",
       "      <td>MD</td>\n",
       "      <td>READM-30-AMI-HRRP</td>\n",
       "      <td>27</td>\n",
       "      <td>NaN</td>\n",
       "      <td>1.0961</td>\n",
       "      <td>24.8</td>\n",
       "      <td>22.6</td>\n",
       "      <td>12.0</td>\n",
       "      <td>07/01/2010</td>\n",
       "      <td>06/30/2013</td>\n",
       "    </tr>\n",
       "    <tr>\n",
       "      <th>1774</th>\n",
       "      <td>MERCY MEDICAL CENTER INC</td>\n",
       "      <td>210008</td>\n",
       "      <td>MD</td>\n",
       "      <td>READM-30-AMI-HRRP</td>\n",
       "      <td>28</td>\n",
       "      <td>NaN</td>\n",
       "      <td>1.0934</td>\n",
       "      <td>24.4</td>\n",
       "      <td>22.3</td>\n",
       "      <td>12.0</td>\n",
       "      <td>07/01/2010</td>\n",
       "      <td>06/30/2013</td>\n",
       "    </tr>\n",
       "    <tr>\n",
       "      <th>1853</th>\n",
       "      <td>KAISER FOUNDATION HOSPITAL-SANTA CLARA</td>\n",
       "      <td>50071</td>\n",
       "      <td>CA</td>\n",
       "      <td>READM-30-HF-HRRP</td>\n",
       "      <td>29</td>\n",
       "      <td>NaN</td>\n",
       "      <td>1.0908</td>\n",
       "      <td>21.0</td>\n",
       "      <td>19.3</td>\n",
       "      <td>11.0</td>\n",
       "      <td>07/01/2010</td>\n",
       "      <td>06/30/2013</td>\n",
       "    </tr>\n",
       "    <tr>\n",
       "      <th>1290</th>\n",
       "      <td>PALMERTON HOSPITAL</td>\n",
       "      <td>390019</td>\n",
       "      <td>PA</td>\n",
       "      <td>READM-30-AMI-HRRP</td>\n",
       "      <td>30</td>\n",
       "      <td>NaN</td>\n",
       "      <td>1.1123</td>\n",
       "      <td>23.2</td>\n",
       "      <td>20.9</td>\n",
       "      <td>13.0</td>\n",
       "      <td>07/01/2010</td>\n",
       "      <td>06/30/2013</td>\n",
       "    </tr>\n",
       "  </tbody>\n",
       "</table>\n",
       "</div>"
      ],
      "text/plain": [
       "                                          Hospital Name  Provider Number  \\\n",
       "1832  UNIVERSITY OF MD CHARLES REGIONAL  MEDICAL CENTER           210035   \n",
       "1699                          ATLANTIC GENERAL HOSPITAL           210061   \n",
       "1774                           MERCY MEDICAL CENTER INC           210008   \n",
       "1853             KAISER FOUNDATION HOSPITAL-SANTA CLARA            50071   \n",
       "1290                                 PALMERTON HOSPITAL           390019   \n",
       "\n",
       "     State       Measure Name  Number of Discharges  Footnote  \\\n",
       "1832    MD  READM-30-AMI-HRRP                    25       NaN   \n",
       "1699    MD  READM-30-AMI-HRRP                    27       NaN   \n",
       "1774    MD  READM-30-AMI-HRRP                    28       NaN   \n",
       "1853    CA   READM-30-HF-HRRP                    29       NaN   \n",
       "1290    PA  READM-30-AMI-HRRP                    30       NaN   \n",
       "\n",
       "      Excess Readmission Ratio  Predicted Readmission Rate  \\\n",
       "1832                    1.0914                        26.8   \n",
       "1699                    1.0961                        24.8   \n",
       "1774                    1.0934                        24.4   \n",
       "1853                    1.0908                        21.0   \n",
       "1290                    1.1123                        23.2   \n",
       "\n",
       "      Expected Readmission Rate  Number of Readmissions  Start Date  \\\n",
       "1832                       24.6                    12.0  07/01/2010   \n",
       "1699                       22.6                    12.0  07/01/2010   \n",
       "1774                       22.3                    12.0  07/01/2010   \n",
       "1853                       19.3                    11.0  07/01/2010   \n",
       "1290                       20.9                    13.0  07/01/2010   \n",
       "\n",
       "        End Date  \n",
       "1832  06/30/2013  \n",
       "1699  06/30/2013  \n",
       "1774  06/30/2013  \n",
       "1853  06/30/2013  \n",
       "1290  06/30/2013  "
      ]
     },
     "execution_count": 7,
     "metadata": {},
     "output_type": "execute_result"
    }
   ],
   "source": [
    "#Dealing with missing NaN, by excluding them:\n",
    "df=clean_hospital_read_df.dropna(subset=['Excess Readmission Ratio'])\n",
    "df.head()"
   ]
  },
  {
   "cell_type": "code",
   "execution_count": 8,
   "metadata": {
    "collapsed": false
   },
   "outputs": [
    {
     "data": {
      "image/png": "[encoded data removed]",
      "text/plain": [
       "<matplotlib.figure.Figure at 0x167e9594828>"
      ]
     },
     "metadata": {},
     "output_type": "display_data"
    }
   ],
   "source": [
    "# generate a scatterplot for number of discharges vs. excess rate of readmissions\n",
    "# lists work better with matplotlib scatterplot function\n",
    "x = [a for a in clean_hospital_read_df['Number of Discharges'][81:-3]]\n",
    "y = list(clean_hospital_read_df['Excess Readmission Ratio'][81:-3])\n",
    "\n",
    "fig, ax = plt.subplots(figsize=(8,5))\n",
    "ax.scatter(x, y,alpha=0.2)\n",
    "\n",
    "ax.fill_between([0,350], 1.15, 2, facecolor='red', alpha = .15, interpolate=True)\n",
    "ax.fill_between([800,2500], .5, .95, facecolor='green', alpha = .15, interpolate=True)\n",
    "\n",
    "ax.set_xlim([0, max(x)])\n",
    "ax.set_xlabel('Number of discharges', fontsize=12)\n",
    "ax.set_ylabel('Excess rate of readmissions', fontsize=12)\n",
    "ax.set_title('Scatterplot of number of discharges vs. excess rate of readmissions', fontsize=14)\n",
    "\n",
    "ax.grid(True)\n",
    "fig.tight_layout()"
   ]
  },
  {
   "cell_type": "code",
   "execution_count": 17,
   "metadata": {
    "collapsed": true
   },
   "outputs": [],
   "source": [
    "#creating some functions for analysis.\n",
    "def mean_std (measure):\n",
    "    \"\"\"\n",
    "    Input: series with non-missing values\n",
    "    Output: mean and sample standard deviation\n",
    "    NOTE: Need to clear up the nan prior to using this defintion\n",
    "     \"\"\"\n",
    "    s=1.0*sum(measure)#this excludes nan\n",
    "    N=1.0*len(measure)#this does not exclude nan!!\n",
    "    mean=(s/N)\n",
    "    diff=[]\n",
    "    for num in measure:\n",
    "        diff.append((num-mean)**2)\n",
    "        variance=sum(diff)\n",
    "    std=(variance**(.5))/(N-1)**(.5)\n",
    "    return mean,std\n",
    "\n",
    "def disch_cat(row):\n",
    "    \"\"\"\n",
    "    Purpose: To create three category scheme.\n",
    "    Input: based on number of discharges per each row.\n",
    "    Output: a new column (<100, 100-999,1000+)\n",
    "    \"\"\"\n",
    "    if row['Number of Discharges'] < 100:\n",
    "        return 0\n",
    "    elif 100<=row['Number of Discharges'] <=1000:\n",
    "        return 1\n",
    "    else:\n",
    "        return 2\n",
    "    \n",
    "def disch_cat300(row):\n",
    "    \"\"\"\n",
    "    Purpose: To create a second category scheme based on <300 vs 300+\n",
    "    Input: based on number of discharges per each row.\n",
    "    Output: a new column (<100, 100-999,1000+)\n",
    "    \"\"\"\n",
    "    if row['Number of Discharges'] < 300:\n",
    "        return 0\n",
    "    else:\n",
    "        return 1"
   ]
  },
  {
   "cell_type": "code",
   "execution_count": 18,
   "metadata": {
    "collapsed": false
   },
   "outputs": [
    {
     "name": "stderr",
     "output_type": "stream",
     "text": [
      "C:\\Users\\arao2\\Anaconda3\\lib\\site-packages\\ipykernel\\__main__.py:2: SettingWithCopyWarning: \n",
      "A value is trying to be set on a copy of a slice from a DataFrame.\n",
      "Try using .loc[row_indexer,col_indexer] = value instead\n",
      "\n",
      "See the caveats in the documentation: http://pandas.pydata.org/pandas-docs/stable/indexing.html#indexing-view-versus-copy\n",
      "  from ipykernel import kernelapp as app\n"
     ]
    }
   ],
   "source": [
    "#df.apply (lambda row: disch_cat (row),axis=1)\n",
    "df['DischCat']=df.apply(disch_cat, axis=1)"
   ]
  },
  {
   "cell_type": "code",
   "execution_count": 19,
   "metadata": {
    "collapsed": false
   },
   "outputs": [
    {
     "name": "stderr",
     "output_type": "stream",
     "text": [
      "C:\\Users\\arao2\\Anaconda3\\lib\\site-packages\\ipykernel\\__main__.py:1: SettingWithCopyWarning: \n",
      "A value is trying to be set on a copy of a slice from a DataFrame.\n",
      "Try using .loc[row_indexer,col_indexer] = value instead\n",
      "\n",
      "See the caveats in the documentation: http://pandas.pydata.org/pandas-docs/stable/indexing.html#indexing-view-versus-copy\n",
      "  if __name__ == '__main__':\n"
     ]
    }
   ],
   "source": [
    "df['DischCat300']=df.apply(disch_cat300, axis=1)"
   ]
  },
  {
   "cell_type": "code",
   "execution_count": null,
   "metadata": {
    "collapsed": true
   },
   "outputs": [],
   "source": []
  },
  {
   "cell_type": "markdown",
   "metadata": {},
   "source": [
    "# ANSWERS"
   ]
  },
  {
   "cell_type": "markdown",
   "metadata": {},
   "source": [
    "# A)  The recommendation is based on a capacity of 300 rather than what was used in the statistical section (ie/100 vs 100-1000 vs >1000).  Secondly, the statistical section shows a difference of .045 in the excess readmission ratio when comparing < 100 capacity vs >1000.  This does not seem to be clinically significant. Even if there is a statistical signifiance, this may be due to the large sample size and may not be meaningful in a clinical/practical setting."
   ]
  },
  {
   "cell_type": "markdown",
   "metadata": {},
   "source": [
    "# B) Hypothesis Testing.  I will setup two test. The first will compare two groups, < 100 vs >1000, as per their statistical section.  The second will compare two groups, < 300 vs >300, as per their recommendation.  The null and altherantive hypothesis will be the same in the two tests (ie/ comparing means between two groups).\n",
    "Null Hypothesis: there is no statisticall signficant difference of excess readmission between the the two groups.   \n",
    "\n",
    "Alternative Hypoth: The excess readmission is differnet between the two hospital capacity groups."
   ]
  },
  {
   "cell_type": "code",
   "execution_count": 11,
   "metadata": {
    "collapsed": false
   },
   "outputs": [],
   "source": [
    "u,std=mean_std(df['Excess Readmission Ratio'])"
   ]
  },
  {
   "cell_type": "code",
   "execution_count": 24,
   "metadata": {
    "collapsed": false
   },
   "outputs": [
    {
     "name": "stdout",
     "output_type": "stream",
     "text": [
      "overall mean: 1.0075037836 ,  overall std: 0.091964266033\n"
     ]
    }
   ],
   "source": [
    "print(\"overall mean:\",u,\",\",\" overall std:\",std)"
   ]
  },
  {
   "cell_type": "code",
   "execution_count": null,
   "metadata": {
    "collapsed": true
   },
   "outputs": [],
   "source": []
  },
  {
   "cell_type": "code",
   "execution_count": 44,
   "metadata": {
    "collapsed": true
   },
   "outputs": [],
   "source": [
    "#95%CI\n",
    "def ci_i (ci,mean,n,std):\n",
    "    \"\"\"\n",
    "    Input:\n",
    "    Output: 2 tailed confidence interval (95% or 99%)\n",
    "    Note: assumes only 100 DF\n",
    "    \"\"\"\n",
    "    if ci==95:\n",
    "        limit=1.984*(std/((n)**(.5)))\n",
    "        return (mean-limit,mean+limit)\n",
    "    elif ci==99:\n",
    "        limit=2.626*(std/((n)**(.5)))\n",
    "        return (mean-limit,mean+limit)\n",
    "    else:\n",
    "        print(\"Error\")"
   ]
  },
  {
   "cell_type": "code",
   "execution_count": 46,
   "metadata": {
    "collapsed": false
   },
   "outputs": [
    {
     "data": {
      "text/html": [
       "<div>\n",
       "<table border=\"1\" class=\"dataframe\">\n",
       "  <thead>\n",
       "    <tr>\n",
       "      <th></th>\n",
       "      <th>DischCat</th>\n",
       "      <th colspan=\"4\" halign=\"left\">Excess Readmission Ratio</th>\n",
       "    </tr>\n",
       "    <tr>\n",
       "      <th></th>\n",
       "      <th></th>\n",
       "      <th>mean</th>\n",
       "      <th>std</th>\n",
       "      <th>var</th>\n",
       "      <th>count</th>\n",
       "    </tr>\n",
       "  </thead>\n",
       "  <tbody>\n",
       "    <tr>\n",
       "      <th>0</th>\n",
       "      <td>0</td>\n",
       "      <td>1.022618</td>\n",
       "      <td>0.057979</td>\n",
       "      <td>0.003362</td>\n",
       "      <td>1188</td>\n",
       "    </tr>\n",
       "    <tr>\n",
       "      <th>1</th>\n",
       "      <td>1</td>\n",
       "      <td>1.007052</td>\n",
       "      <td>0.093417</td>\n",
       "      <td>0.008727</td>\n",
       "      <td>9846</td>\n",
       "    </tr>\n",
       "    <tr>\n",
       "      <th>2</th>\n",
       "      <td>2</td>\n",
       "      <td>0.978335</td>\n",
       "      <td>0.120007</td>\n",
       "      <td>0.014402</td>\n",
       "      <td>463</td>\n",
       "    </tr>\n",
       "  </tbody>\n",
       "</table>\n",
       "</div>"
      ],
      "text/plain": [
       "  DischCat Excess Readmission Ratio                          \n",
       "                               mean       std       var count\n",
       "0        0                 1.022618  0.057979  0.003362  1188\n",
       "1        1                 1.007052  0.093417  0.008727  9846\n",
       "2        2                 0.978335  0.120007  0.014402   463"
      ]
     },
     "execution_count": 46,
     "metadata": {},
     "output_type": "execute_result"
    }
   ],
   "source": [
    "result1 = df.groupby(['DischCat'], as_index=False).agg(\n",
    "                      {'Excess Readmission Ratio':['mean','std','var','count']})\n",
    "result1"
   ]
  },
  {
   "cell_type": "code",
   "execution_count": 55,
   "metadata": {
    "collapsed": false
   },
   "outputs": [
    {
     "data": {
      "text/plain": [
       "(1.018200696677186, 1.0270353033228141)"
      ]
     },
     "execution_count": 55,
     "metadata": {},
     "output_type": "execute_result"
    }
   ],
   "source": [
    "confint_100=ci_i(99,1.022618,1188,.057979)\n",
    "confint_1000=ci_i(99,0.978335,463,0.120007)\n",
    "confint_100"
   ]
  },
  {
   "cell_type": "code",
   "execution_count": 56,
   "metadata": {
    "collapsed": false
   },
   "outputs": [
    {
     "data": {
      "text/plain": [
       "(0.9636892773543486, 0.9929807226456513)"
      ]
     },
     "execution_count": 56,
     "metadata": {},
     "output_type": "execute_result"
    }
   ],
   "source": [
    "confint_1000"
   ]
  },
  {
   "cell_type": "markdown",
   "metadata": {},
   "source": [
    "Notice here the mean ratios are exactly what they reported in the statistical section.  More specically, the mean excess readmission ratio for hosptials with discharge < 100 is 1.02 (99%CI: 1.02,1.03).  The mean excess readmission ratio for hopsitals with discharge > 100 is 0.98 (95%CI: 0.96, 0.99). The mean ratios are fairly similar even though the 99% CI do not overlap.  This may be due to the large sample size. There is no mention of comparing the middle group 1 (100-1000).  "
   ]
  },
  {
   "cell_type": "code",
   "execution_count": 53,
   "metadata": {
    "collapsed": false
   },
   "outputs": [
    {
     "data": {
      "text/html": [
       "<div>\n",
       "<table border=\"1\" class=\"dataframe\">\n",
       "  <thead>\n",
       "    <tr>\n",
       "      <th></th>\n",
       "      <th>DischCat300</th>\n",
       "      <th colspan=\"4\" halign=\"left\">Excess Readmission Ratio</th>\n",
       "    </tr>\n",
       "    <tr>\n",
       "      <th></th>\n",
       "      <th></th>\n",
       "      <th>mean</th>\n",
       "      <th>std</th>\n",
       "      <th>var</th>\n",
       "      <th>count</th>\n",
       "    </tr>\n",
       "  </thead>\n",
       "  <tbody>\n",
       "    <tr>\n",
       "      <th>0</th>\n",
       "      <td>0</td>\n",
       "      <td>1.014238</td>\n",
       "      <td>0.082478</td>\n",
       "      <td>0.006803</td>\n",
       "      <td>6108</td>\n",
       "    </tr>\n",
       "    <tr>\n",
       "      <th>1</th>\n",
       "      <td>1</td>\n",
       "      <td>0.999871</td>\n",
       "      <td>0.101118</td>\n",
       "      <td>0.010225</td>\n",
       "      <td>5389</td>\n",
       "    </tr>\n",
       "  </tbody>\n",
       "</table>\n",
       "</div>"
      ],
      "text/plain": [
       "  DischCat300 Excess Readmission Ratio                          \n",
       "                                  mean       std       var count\n",
       "0           0                 1.014238  0.082478  0.006803  6108\n",
       "1           1                 0.999871  0.101118  0.010225  5389"
      ]
     },
     "execution_count": 53,
     "metadata": {},
     "output_type": "execute_result"
    }
   ],
   "source": [
    "result2 = df.groupby(['DischCat300'], as_index=False).agg(\n",
    "                      {'Excess Readmission Ratio':['mean','std','var','count']})\n",
    "result2"
   ]
  },
  {
   "cell_type": "code",
   "execution_count": 58,
   "metadata": {
    "collapsed": false
   },
   "outputs": [
    {
     "data": {
      "text/plain": [
       "(1.0114667013589393, 1.0170092986410606)"
      ]
     },
     "execution_count": 58,
     "metadata": {},
     "output_type": "execute_result"
    }
   ],
   "source": [
    "confint_100=ci_i(99,1.014238,6108,.082478)\n",
    "confint_1000=ci_i(99,0.999871,5389,0.101118)\n",
    "confint_100"
   ]
  },
  {
   "cell_type": "code",
   "execution_count": 59,
   "metadata": {
    "collapsed": false
   },
   "outputs": [
    {
     "data": {
      "text/plain": [
       "(0.9962538284934707, 1.0034881715065294)"
      ]
     },
     "execution_count": 59,
     "metadata": {},
     "output_type": "execute_result"
    }
   ],
   "source": [
    "confint_1000"
   ]
  },
  {
   "cell_type": "markdown",
   "metadata": {},
   "source": [
    "After categorizing hospital discharge as < 300 vs > 300, the mean excess readmission ratio for hosptials with discharge < 300 is 1.01 (99%CI:1.01,1.02). The mean excess readmission ratio for hopsitals with discharge > 300 is 0.99 (95%CI: 0.996, 1.00). As previous, the mean ratios are fairly similar even though the 99% CI do not overlap. This may be due to the large sample size."
   ]
  },
  {
   "cell_type": "code",
   "execution_count": null,
   "metadata": {
    "collapsed": true
   },
   "outputs": [],
   "source": []
  },
  {
   "cell_type": "code",
   "execution_count": 66,
   "metadata": {
    "collapsed": true
   },
   "outputs": [],
   "source": [
    "#Hypothesis Testing 1:\n",
    "from scipy.stats import ttest_ind, ttest_ind_from_stats\n",
    "ttest1, pval1 = ttest_ind_from_stats(1.022618, 0.057979, 1188,\n",
    "                              0.978335,0.120007,463,\n",
    "                              equal_var=False)\n",
    "\n",
    "#Hypothesis Testing 2:\n",
    "ttest2, pval2 = ttest_ind_from_stats(1.014238, .082478, 6108,\n",
    "                              0.999871,0.101118,5389,\n",
    "                              equal_var=False)"
   ]
  },
  {
   "cell_type": "code",
   "execution_count": 67,
   "metadata": {
    "collapsed": false
   },
   "outputs": [
    {
     "name": "stdout",
     "output_type": "stream",
     "text": [
      "t-crit:  7.60177079259 ,  P-value:  1.27498506863e-13\n"
     ]
    }
   ],
   "source": [
    "print (\"t-crit: \",ttest1,\", \",\"P-value: \",pval1)"
   ]
  },
  {
   "cell_type": "code",
   "execution_count": 68,
   "metadata": {
    "collapsed": false
   },
   "outputs": [
    {
     "name": "stdout",
     "output_type": "stream",
     "text": [
      "t-crit:  8.27951758551 ,  P-value:  1.38839474554e-16\n"
     ]
    }
   ],
   "source": [
    "print (\"t-crit: \",ttest2,\", \",\"P-value: \",pval2)"
   ]
  },
  {
   "cell_type": "markdown",
   "metadata": {
    "collapsed": true
   },
   "source": [
    "summary:After comparing hosptials with discharge < 100 (1.02 (99%CI: 1.02,1.03)) vs hospitals with discharge > 100 (0.98 (95%CI: 0.96, 0.99)), the difference of 0.045 was found to be statistically significant based on alpha=.01 (pval < 0.0001).\n",
    "        After comparing hosptials with discharge < 300 (1.01 (99%CI:1.01,1.02)) vs hospitals with discharge > 100 (0.99 (95%CI: 0.996, 1.00)), the difference of 0.014 was found to be statistically significant based on alpha=.01 (pval < 0.0001).\n",
    "        \n",
    "However, this difference represents 4 readmissions per 100 discharge for test 1, and 1 readmission per 100 discharge for test2. This is not a clinical significance! Therefore, while the numbers are statistically significant, I do not agree with the researcher's recommendation."
   ]
  },
  {
   "cell_type": "code",
   "execution_count": 25,
   "metadata": {
    "collapsed": false
   },
   "outputs": [
    {
     "data": {
      "text/html": [
       "<div>\n",
       "<table border=\"1\" class=\"dataframe\">\n",
       "  <thead>\n",
       "    <tr style=\"text-align: right;\">\n",
       "      <th></th>\n",
       "      <th>Provider Number</th>\n",
       "      <th>Number of Discharges</th>\n",
       "      <th>Footnote</th>\n",
       "      <th>Excess Readmission Ratio</th>\n",
       "      <th>Predicted Readmission Rate</th>\n",
       "      <th>Expected Readmission Rate</th>\n",
       "      <th>Number of Readmissions</th>\n",
       "      <th>DischCat</th>\n",
       "    </tr>\n",
       "  </thead>\n",
       "  <tbody>\n",
       "    <tr>\n",
       "      <th>Provider Number</th>\n",
       "      <td>1.000000</td>\n",
       "      <td>-0.008849</td>\n",
       "      <td>NaN</td>\n",
       "      <td>-0.012112</td>\n",
       "      <td>-0.009049</td>\n",
       "      <td>-0.003710</td>\n",
       "      <td>-0.009099</td>\n",
       "      <td>0.005472</td>\n",
       "    </tr>\n",
       "    <tr>\n",
       "      <th>Number of Discharges</th>\n",
       "      <td>-0.008849</td>\n",
       "      <td>1.000000</td>\n",
       "      <td>NaN</td>\n",
       "      <td>-0.097398</td>\n",
       "      <td>-0.135163</td>\n",
       "      <td>-0.131091</td>\n",
       "      <td>0.791272</td>\n",
       "      <td>0.615764</td>\n",
       "    </tr>\n",
       "    <tr>\n",
       "      <th>Footnote</th>\n",
       "      <td>NaN</td>\n",
       "      <td>NaN</td>\n",
       "      <td>NaN</td>\n",
       "      <td>NaN</td>\n",
       "      <td>NaN</td>\n",
       "      <td>NaN</td>\n",
       "      <td>NaN</td>\n",
       "      <td>NaN</td>\n",
       "    </tr>\n",
       "    <tr>\n",
       "      <th>Excess Readmission Ratio</th>\n",
       "      <td>-0.012112</td>\n",
       "      <td>-0.097398</td>\n",
       "      <td>NaN</td>\n",
       "      <td>1.000000</td>\n",
       "      <td>0.200039</td>\n",
       "      <td>-0.031104</td>\n",
       "      <td>0.117600</td>\n",
       "      <td>-0.079635</td>\n",
       "    </tr>\n",
       "    <tr>\n",
       "      <th>Predicted Readmission Rate</th>\n",
       "      <td>-0.009049</td>\n",
       "      <td>-0.135163</td>\n",
       "      <td>NaN</td>\n",
       "      <td>0.200039</td>\n",
       "      <td>1.000000</td>\n",
       "      <td>0.965420</td>\n",
       "      <td>0.361033</td>\n",
       "      <td>-0.141053</td>\n",
       "    </tr>\n",
       "    <tr>\n",
       "      <th>Expected Readmission Rate</th>\n",
       "      <td>-0.003710</td>\n",
       "      <td>-0.131091</td>\n",
       "      <td>NaN</td>\n",
       "      <td>-0.031104</td>\n",
       "      <td>0.965420</td>\n",
       "      <td>1.000000</td>\n",
       "      <td>0.330527</td>\n",
       "      <td>-0.129379</td>\n",
       "    </tr>\n",
       "    <tr>\n",
       "      <th>Number of Readmissions</th>\n",
       "      <td>-0.009099</td>\n",
       "      <td>0.791272</td>\n",
       "      <td>NaN</td>\n",
       "      <td>0.117600</td>\n",
       "      <td>0.361033</td>\n",
       "      <td>0.330527</td>\n",
       "      <td>1.000000</td>\n",
       "      <td>0.497726</td>\n",
       "    </tr>\n",
       "    <tr>\n",
       "      <th>DischCat</th>\n",
       "      <td>0.005472</td>\n",
       "      <td>0.615764</td>\n",
       "      <td>NaN</td>\n",
       "      <td>-0.079635</td>\n",
       "      <td>-0.141053</td>\n",
       "      <td>-0.129379</td>\n",
       "      <td>0.497726</td>\n",
       "      <td>1.000000</td>\n",
       "    </tr>\n",
       "  </tbody>\n",
       "</table>\n",
       "</div>"
      ],
      "text/plain": [
       "                            Provider Number  Number of Discharges  Footnote  \\\n",
       "Provider Number                    1.000000             -0.008849       NaN   \n",
       "Number of Discharges              -0.008849              1.000000       NaN   \n",
       "Footnote                                NaN                   NaN       NaN   \n",
       "Excess Readmission Ratio          -0.012112             -0.097398       NaN   \n",
       "Predicted Readmission Rate        -0.009049             -0.135163       NaN   \n",
       "Expected Readmission Rate         -0.003710             -0.131091       NaN   \n",
       "Number of Readmissions            -0.009099              0.791272       NaN   \n",
       "DischCat                           0.005472              0.615764       NaN   \n",
       "\n",
       "                            Excess Readmission Ratio  \\\n",
       "Provider Number                            -0.012112   \n",
       "Number of Discharges                       -0.097398   \n",
       "Footnote                                         NaN   \n",
       "Excess Readmission Ratio                    1.000000   \n",
       "Predicted Readmission Rate                  0.200039   \n",
       "Expected Readmission Rate                  -0.031104   \n",
       "Number of Readmissions                      0.117600   \n",
       "DischCat                                   -0.079635   \n",
       "\n",
       "                            Predicted Readmission Rate  \\\n",
       "Provider Number                              -0.009049   \n",
       "Number of Discharges                         -0.135163   \n",
       "Footnote                                           NaN   \n",
       "Excess Readmission Ratio                      0.200039   \n",
       "Predicted Readmission Rate                    1.000000   \n",
       "Expected Readmission Rate                     0.965420   \n",
       "Number of Readmissions                        0.361033   \n",
       "DischCat                                     -0.141053   \n",
       "\n",
       "                            Expected Readmission Rate  Number of Readmissions  \\\n",
       "Provider Number                             -0.003710               -0.009099   \n",
       "Number of Discharges                        -0.131091                0.791272   \n",
       "Footnote                                          NaN                     NaN   \n",
       "Excess Readmission Ratio                    -0.031104                0.117600   \n",
       "Predicted Readmission Rate                   0.965420                0.361033   \n",
       "Expected Readmission Rate                    1.000000                0.330527   \n",
       "Number of Readmissions                       0.330527                1.000000   \n",
       "DischCat                                    -0.129379                0.497726   \n",
       "\n",
       "                            DischCat  \n",
       "Provider Number             0.005472  \n",
       "Number of Discharges        0.615764  \n",
       "Footnote                         NaN  \n",
       "Excess Readmission Ratio   -0.079635  \n",
       "Predicted Readmission Rate -0.141053  \n",
       "Expected Readmission Rate  -0.129379  \n",
       "Number of Readmissions      0.497726  \n",
       "DischCat                    1.000000  "
      ]
     },
     "execution_count": 25,
     "metadata": {},
     "output_type": "execute_result"
    }
   ],
   "source": [
    "df.corr(method='pearson', min_periods=1)"
   ]
  },
  {
   "cell_type": "code",
   "execution_count": null,
   "metadata": {
    "collapsed": true
   },
   "outputs": [],
   "source": []
  },
  {
   "cell_type": "code",
   "execution_count": 70,
   "metadata": {
    "collapsed": false
   },
   "outputs": [
    {
     "data": {
      "text/plain": [
       "(-0.13516277105208452, 5.1975474319650993e-48)"
      ]
     },
     "execution_count": 70,
     "metadata": {},
     "output_type": "execute_result"
    }
   ],
   "source": [
    "from scipy.stats import pearsonr\n",
    "scipy.stats.pearsonr(df['Number of Discharges'],df['Predicted Readmission Rate'])"
   ]
  },
  {
   "cell_type": "markdown",
   "metadata": {
    "collapsed": false
   },
   "source": [
    "Although there is a significant correlation between number of discharges and predicted readmission rate (p<0.0001), the correlation is a weak one (r=-0.14).\n",
    "\n",
    "CONCLUSION: While I agree with the author's findings, I do not agree with the interpretation.  The difference in the mean excess readmission ratio does does not provide practical proof to warrant any change in hospital policy.  The statistical difference may be attributable to the farily large sample size.  "
   ]
  },
  {
   "cell_type": "markdown",
   "metadata": {
    "collapsed": true
   },
   "source": [
    "The scatter plot provided by the authors does not directly show a negative relationship between excess readmission ratio and the number of hospital discharge.  The advantage of this plot, however, is that 1) it shows the abundance of data and 2) the funnelling pattern as number of discharges increases.  This pattern is what would be expected since hospitals generally want to make patients feel better and send them on their way rather than keeping them in the hopsital for too long. The colored areas in the scatter plot are not convincing of the initial observations the authors claim.  That is, it is hard to tell the density of scatter points when the shaded areas are not the same size.  In fact, my findings as well as the authors is that the mean excess ratio is around 1.0.  A better plot would be a boxplot that shows a minor decreasing trend in average excess ratio as hospital discharge(capacity) increases.  As well, it would directly compare the hopsitals grouped by their capacity. "
   ]
  },
  {
   "cell_type": "code",
   "execution_count": null,
   "metadata": {
    "collapsed": true
   },
   "outputs": [],
   "source": []
  },
  {
   "cell_type": "code",
   "execution_count": 73,
   "metadata": {
    "collapsed": false
   },
   "outputs": [
    {
     "data": {
      "image/png": "[encoded data removed]",
      "text/plain": [
       "<matplotlib.figure.Figure at 0x167eb849860>"
      ]
     },
     "metadata": {},
     "output_type": "display_data"
    }
   ],
   "source": [
    "import seaborn as sns\n",
    "\n",
    "sns.set_style(\"white\")\n",
    "ax = sns.boxplot(x=\"DischCat\", y=\"Excess Readmission Ratio\",\n",
    "                 data=df, palette=\"Set3\",notch=True)\n",
    "\n",
    "ax.set_title('Excess Rate of Readmissions \\nby Hospital Discharge (100 vs +1000)', fontsize=25)\n",
    "ax.set_xlabel('Number of Discharges')\n",
    "ax.set_ylabel('Excess Readmission Ratio')\n",
    "x=[0,1,2]\n",
    "labels=[\"0-99\",\"100-999\",\"+1000\"]\n",
    "plt.xticks(x, labels, rotation='horizontal')\n",
    "plt.ylim(0,2)\n",
    "plt.xlim(-1,3)\n",
    "sns.despine()\n",
    "# Select which box you want to change    \n",
    "mybox1 = ax.artists[0]\n",
    "mybox2 = ax.artists[1]\n",
    "mybox3 = ax.artists[2]\n",
    "\n",
    "# Change the appearance of that box\n",
    "mybox1.set_facecolor('orange')\n",
    "mybox2.set_facecolor('green')\n",
    "mybox3.set_facecolor('blue')\n",
    "\n",
    "\n",
    "plt.plot([-1, 125], [125,0],'b-.', linewidth=1)\n",
    "plt.plot([-1, 155], [155,0], 'b-.', linewidth=1)\n",
    "\n",
    "plt.show()"
   ]
  },
  {
   "cell_type": "code",
   "execution_count": 77,
   "metadata": {
    "collapsed": false
   },
   "outputs": [
    {
     "data": {
      "image/png": "[encoded data removed]",
      "text/plain": [
       "<matplotlib.figure.Figure at 0x167eb99a390>"
      ]
     },
     "metadata": {},
     "output_type": "display_data"
    }
   ],
   "source": [
    "sns.set_style(\"white\")\n",
    "ax = sns.boxplot(x=\"DischCat300\", y=\"Excess Readmission Ratio\",\n",
    "                 data=df, palette=\"Set3\",notch=True)\n",
    "\n",
    "ax.set_title('Excess Rate of Readmissions \\nby Hospital Discharge (299 vs +300)', fontsize=25)\n",
    "ax.set_xlabel('Number of Discharges')\n",
    "ax.set_ylabel('Excess Readmission Ratio')\n",
    "x=[0,1,2]\n",
    "labels=[\"0-299\",\"+300\"]\n",
    "plt.xticks(x, labels, rotation='horizontal')\n",
    "plt.ylim(0,2)\n",
    "plt.xlim(-1,3)\n",
    "sns.despine()\n",
    "# Select which box you want to change    \n",
    "mybox1 = ax.artists[0]\n",
    "mybox2 = ax.artists[1]\n",
    "\n",
    "# Change the appearance of that box\n",
    "mybox1.set_facecolor('yellow')\n",
    "mybox2.set_facecolor('brown')\n",
    "\n",
    "\n",
    "plt.plot([-1, 125], [125,0],'b-.', linewidth=1)\n",
    "plt.plot([-1, 155], [155,0], 'b-.', linewidth=1)\n",
    "\n",
    "plt.show()"
   ]
  },
  {
   "cell_type": "code",
   "execution_count": null,
   "metadata": {
    "collapsed": true
   },
   "outputs": [],
   "source": []
  }
 ],
 "metadata": {
  "kernelspec": {
   "display_name": "Python [conda root]",
   "language": "python",
   "name": "conda-root-py"
  },
  "language_info": {
   "codemirror_mode": {
    "name": "ipython",
    "version": 3
   },
   "file_extension": ".py",
   "mimetype": "text/x-python",
   "name": "python",
   "nbconvert_exporter": "python",
   "pygments_lexer": "ipython3",
   "version": "3.5.2"
  }
 },
 "nbformat": 4,
 "nbformat_minor": 2
}
