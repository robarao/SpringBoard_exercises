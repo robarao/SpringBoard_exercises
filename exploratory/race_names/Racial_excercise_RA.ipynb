{
 "cells": [
  {
   "cell_type": "code",
   "execution_count": 1,
   "metadata": {
    "collapsed": false
   },
   "outputs": [],
   "source": [
    "import pandas as pd\n",
    "import numpy as np\n",
    "from scipy import stats\n",
    "from scipy.stats import norm, chi2_contingency"
   ]
  },
  {
   "cell_type": "code",
   "execution_count": 2,
   "metadata": {
    "collapsed": true
   },
   "outputs": [],
   "source": [
    "data = pd.io.stata.read_stata('data/us_job_market_discrimination.dta')"
   ]
  },
  {
   "cell_type": "code",
   "execution_count": 3,
   "metadata": {
    "collapsed": false
   },
   "outputs": [
    {
     "data": {
      "text/plain": [
       "157.0"
      ]
     },
     "execution_count": 3,
     "metadata": {},
     "output_type": "execute_result"
    }
   ],
   "source": [
    "# number of callbacks for black-sounding names\n",
    "sum(data[data.race=='b'].call)"
   ]
  },
  {
   "cell_type": "code",
   "execution_count": 4,
   "metadata": {
    "collapsed": false
   },
   "outputs": [
    {
     "data": {
      "text/plain": [
       "235.0"
      ]
     },
     "execution_count": 4,
     "metadata": {},
     "output_type": "execute_result"
    }
   ],
   "source": [
    "sum(data[data.race=='w'].call)"
   ]
  },
  {
   "cell_type": "code",
   "execution_count": 18,
   "metadata": {
    "collapsed": false
   },
   "outputs": [
    {
     "data": {
      "text/html": [
       "<div>\n",
       "<table border=\"1\" class=\"dataframe\">\n",
       "  <thead>\n",
       "    <tr style=\"text-align: right;\">\n",
       "      <th>race</th>\n",
       "      <th>b</th>\n",
       "      <th>w</th>\n",
       "      <th>All</th>\n",
       "    </tr>\n",
       "    <tr>\n",
       "      <th>call</th>\n",
       "      <th></th>\n",
       "      <th></th>\n",
       "      <th></th>\n",
       "    </tr>\n",
       "  </thead>\n",
       "  <tbody>\n",
       "    <tr>\n",
       "      <th>0.0</th>\n",
       "      <td>2278</td>\n",
       "      <td>2200</td>\n",
       "      <td>4478</td>\n",
       "    </tr>\n",
       "    <tr>\n",
       "      <th>1.0</th>\n",
       "      <td>157</td>\n",
       "      <td>235</td>\n",
       "      <td>392</td>\n",
       "    </tr>\n",
       "    <tr>\n",
       "      <th>All</th>\n",
       "      <td>2435</td>\n",
       "      <td>2435</td>\n",
       "      <td>4870</td>\n",
       "    </tr>\n",
       "  </tbody>\n",
       "</table>\n",
       "</div>"
      ],
      "text/plain": [
       "race     b     w   All\n",
       "call                  \n",
       "0.0   2278  2200  4478\n",
       "1.0    157   235   392\n",
       "All   2435  2435  4870"
      ]
     },
     "execution_count": 18,
     "metadata": {},
     "output_type": "execute_result"
    }
   ],
   "source": [
    "pd.crosstab(data.call,data.race, margins=True)"
   ]
  },
  {
   "cell_type": "markdown",
   "metadata": {},
   "source": [
    "# #Answer 1:\n",
    "Since the variables we're interested in are not continuous, the CLT is not applicable here. That is, we wouldn't expect a normal distribution.   Since we're dealing with categorical variables, a chi-square test would be appropriate.  Note that if there was no association between race-names and call-backs, then we'd expect approximately 8% (392/4870) of people with black name(i.e. 196) and 8% of white people (i.e. 196) to get call-backs. The most appropriate test would be a chi-square test of association between race-names and call-backs.  Since there are no cells with counts < 5 this should be ok."
   ]
  },
  {
   "cell_type": "markdown",
   "metadata": {},
   "source": [
    "# #Answer 2:\n",
    "The null hypothesis is that there is no statistical difference between the proportion of \"black people names\" that got a call-back and the proportion of \"white people names\" that got a call-back.  That is, the difference between observed and expected results are not statistically significant.\n",
    "The altenative hypothesis is that there is a significant difference in the proportion of people with black names vs people with white names that get call-backs to job interviews.  That is there is a statistical significant difference between expected and observered proprotions."
   ]
  },
  {
   "cell_type": "markdown",
   "metadata": {},
   "source": [
    "# #Answer 3:\n",
    "I've already created a function that calculates difference of proportion and calculates z-score. But I still need to find out proportions of white vs black names that got a call-back."
   ]
  },
  {
   "cell_type": "code",
   "execution_count": 5,
   "metadata": {
    "collapsed": true
   },
   "outputs": [],
   "source": [
    "def ci_propDiff(ci,p1,p2,n1,n2):\n",
    "    \"\"\"\n",
    "    INPUT:  ci=confidence interval requested\n",
    "            p1=proportion 1\n",
    "            p2=proportion 2\n",
    "            n1=population of p1\n",
    "            n2=population of p2\n",
    "    OUTPUT: difference in proportions, upper limit, lower limit, and z-score\n",
    "    \"\"\"\n",
    "    diff=100*(p1-p2)\n",
    "    std=((p1*(1-p1)/n1)+(p2*(1-p2)/n2))**(0.5)\n",
    "    ppool=((p1*n1)+(p2*n2))/(n1+n2)\n",
    "#    std_pooled=(2*ppool*(1-ppool)/((n1+n2)/2))**(0.5)\n",
    "    zscore=diff/std\n",
    "    if ci==95:\n",
    "        zcrit=1.96\n",
    "    elif ci==99:\n",
    "        zcrit=2.626\n",
    "    else:\n",
    "        print(\"Error\")\n",
    "    limit=zcrit*(std)\n",
    "    upper=diff+limit\n",
    "    lower=diff-limit\n",
    "    return(diff,lower, upper,zscore)"
   ]
  },
  {
   "cell_type": "code",
   "execution_count": 6,
   "metadata": {
    "collapsed": false
   },
   "outputs": [],
   "source": [
    "df = data.groupby(['race','call'], as_index=False)['call'].agg(['count'])\n",
    "df=df.reset_index()"
   ]
  },
  {
   "cell_type": "code",
   "execution_count": 7,
   "metadata": {
    "collapsed": false
   },
   "outputs": [],
   "source": [
    "df1 = data.groupby(['race'], as_index=False)['call'].agg(['count'])\n",
    "df1=df1.reset_index()"
   ]
  },
  {
   "cell_type": "code",
   "execution_count": 8,
   "metadata": {
    "collapsed": false
   },
   "outputs": [
    {
     "data": {
      "text/html": [
       "<div>\n",
       "<table border=\"1\" class=\"dataframe\">\n",
       "  <thead>\n",
       "    <tr style=\"text-align: right;\">\n",
       "      <th></th>\n",
       "      <th>call</th>\n",
       "      <th>count_n</th>\n",
       "      <th>count_tot</th>\n",
       "      <th>Percent</th>\n",
       "    </tr>\n",
       "    <tr>\n",
       "      <th>race</th>\n",
       "      <th></th>\n",
       "      <th></th>\n",
       "      <th></th>\n",
       "      <th></th>\n",
       "    </tr>\n",
       "  </thead>\n",
       "  <tbody>\n",
       "    <tr>\n",
       "      <th>b</th>\n",
       "      <td>0.0</td>\n",
       "      <td>2278</td>\n",
       "      <td>2435</td>\n",
       "      <td>93.552361</td>\n",
       "    </tr>\n",
       "    <tr>\n",
       "      <th>b</th>\n",
       "      <td>1.0</td>\n",
       "      <td>157</td>\n",
       "      <td>2435</td>\n",
       "      <td>6.447639</td>\n",
       "    </tr>\n",
       "    <tr>\n",
       "      <th>w</th>\n",
       "      <td>0.0</td>\n",
       "      <td>2200</td>\n",
       "      <td>2435</td>\n",
       "      <td>90.349076</td>\n",
       "    </tr>\n",
       "    <tr>\n",
       "      <th>w</th>\n",
       "      <td>1.0</td>\n",
       "      <td>235</td>\n",
       "      <td>2435</td>\n",
       "      <td>9.650924</td>\n",
       "    </tr>\n",
       "  </tbody>\n",
       "</table>\n",
       "</div>"
      ],
      "text/plain": [
       "      call  count_n  count_tot    Percent\n",
       "race                                     \n",
       "b      0.0     2278       2435  93.552361\n",
       "b      1.0      157       2435   6.447639\n",
       "w      0.0     2200       2435  90.349076\n",
       "w      1.0      235       2435   9.650924"
      ]
     },
     "execution_count": 8,
     "metadata": {},
     "output_type": "execute_result"
    }
   ],
   "source": [
    "df_working = df.set_index('race').join(df1.set_index('race'),lsuffix='_n', rsuffix='_tot')\n",
    "df_working['Percent']=100*df_working['count_n']/df_working['count_tot']\n",
    "df_working"
   ]
  },
  {
   "cell_type": "code",
   "execution_count": 9,
   "metadata": {
    "collapsed": false
   },
   "outputs": [],
   "source": [
    "d,l,u,sc=ci_propDiff(95,.06448,.096509,2435,2435)"
   ]
  },
  {
   "cell_type": "code",
   "execution_count": 10,
   "metadata": {
    "collapsed": false
   },
   "outputs": [
    {
     "data": {
      "text/plain": [
       "-3.1876444409025373"
      ]
     },
     "execution_count": 10,
     "metadata": {},
     "output_type": "execute_result"
    }
   ],
   "source": [
    "u"
   ]
  },
  {
   "cell_type": "code",
   "execution_count": 11,
   "metadata": {
    "collapsed": false
   },
   "outputs": [
    {
     "name": "stdout",
     "output_type": "stream",
     "text": [
      "The mean difference was:-3.20 with a 95%CI of (-3.22,-3.19)\n"
     ]
    }
   ],
   "source": [
    "print(\"The mean difference was:{:.2f} with a 95%CI of ({:.2f},{:.2f})\".format(d,l,u))"
   ]
  },
  {
   "cell_type": "code",
   "execution_count": 12,
   "metadata": {
    "collapsed": false
   },
   "outputs": [
    {
     "data": {
      "text/plain": [
       "-411.50140482521584"
      ]
     },
     "execution_count": 12,
     "metadata": {},
     "output_type": "execute_result"
    }
   ],
   "source": [
    "sc"
   ]
  },
  {
   "cell_type": "markdown",
   "metadata": {},
   "source": [
    "# I can calculate the area under the CDF up to the z-critical score to determine the p-value. I will then multiple by 2 to get the other half to get a two-tailed p-value:"
   ]
  },
  {
   "cell_type": "code",
   "execution_count": 13,
   "metadata": {
    "collapsed": false
   },
   "outputs": [],
   "source": [
    "p_value = 2*(norm.sf(abs(sc)))"
   ]
  },
  {
   "cell_type": "code",
   "execution_count": 14,
   "metadata": {
    "collapsed": false
   },
   "outputs": [
    {
     "data": {
      "text/plain": [
       "0.0"
      ]
     },
     "execution_count": 14,
     "metadata": {},
     "output_type": "execute_result"
    }
   ],
   "source": [
    "p_value"
   ]
  },
  {
   "cell_type": "code",
   "execution_count": 15,
   "metadata": {
    "collapsed": false
   },
   "outputs": [
    {
     "name": "stdout",
     "output_type": "stream",
     "text": [
      "The p-value was found to be <0.0001 and is statistically significant.\n"
     ]
    }
   ],
   "source": [
    "print (\"The p-value was found to be <0.0001 and is statistically significant.\".format(p_value))"
   ]
  },
  {
   "cell_type": "code",
   "execution_count": null,
   "metadata": {
    "collapsed": true
   },
   "outputs": [],
   "source": []
  }
 ],
 "metadata": {
  "kernelspec": {
   "display_name": "Python [conda root]",
   "language": "python",
   "name": "conda-root-py"
  },
  "language_info": {
   "codemirror_mode": {
    "name": "ipython",
    "version": 3
   },
   "file_extension": ".py",
   "mimetype": "text/x-python",
   "name": "python",
   "nbconvert_exporter": "python",
   "pygments_lexer": "ipython3",
   "version": "3.5.2"
  }
 },
 "nbformat": 4,
 "nbformat_minor": 2
}
